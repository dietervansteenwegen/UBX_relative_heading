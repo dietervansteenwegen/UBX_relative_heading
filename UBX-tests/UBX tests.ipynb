{
 "metadata": {
  "language_info": {
   "codemirror_mode": {
    "name": "ipython",
    "version": 3
   },
   "file_extension": ".py",
   "mimetype": "text/x-python",
   "name": "python",
   "nbconvert_exporter": "python",
   "pygments_lexer": "ipython3",
   "version": 3
  },
  "orig_nbformat": 2
 },
 "nbformat": 4,
 "nbformat_minor": 2,
 "cells": [
  {
   "cell_type": "code",
   "execution_count": null,
   "metadata": {},
   "outputs": [],
   "source": [
    "B5 62 01 3C 40 00 01 00 00 00 68 55 58 17 DD FF FF FF 5E FF FF FF FF FF FF FF A6 00 00 00 46 EE 88 01 00 00 00 00 A5 F5 D1 05 64 00 00 00 64 00 00 00 6A 00 00 00 64 00 00 00 CB 86 00 00 00 00 00 00 37 01 00 00 CD A2\n"
   ]
  }
 ]
}